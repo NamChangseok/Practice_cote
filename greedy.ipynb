{
 "cells": [
  {
   "cell_type": "code",
   "execution_count": null,
   "metadata": {},
   "outputs": [],
   "source": [
    "#거스름 돈의 개수를 구하는 문제\n",
    "\n",
    "m = 1320 #  받는돈\n",
    "coin_type= [500,100,50,10] # 잔돈\n",
    "count=0 # 동전 개수\n",
    "for coin in coin_type:\n",
    "  count+=m//coin # m // coin_type[0]의 첫값인 500의 목인 2를 count에 더하고 그다음 [1] 100에서의 3 50원은 생략하고 10원 2개 더해서 7개가 나온다\n",
    "  m%=coin\n",
    "\n",
    "\n",
    "print(count)\n"
   ]
  },
  {
   "cell_type": "code",
   "execution_count": null,
   "metadata": {},
   "outputs": [],
   "source": []
  }
 ],
 "metadata": {
  "interpreter": {
   "hash": "19218ee4d00474c93476f0ff857c03eb383be85b4959e207c23229e4a7ae1e71"
  },
  "kernelspec": {
   "display_name": "Python 3.8.13 64-bit ('s2n3': conda)",
   "name": "python3"
  },
  "language_info": {
   "name": "python",
   "version": "3.8.13"
  },
  "orig_nbformat": 4
 },
 "nbformat": 4,
 "nbformat_minor": 2
}
